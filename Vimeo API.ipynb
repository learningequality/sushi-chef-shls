{
 "cells": [
  {
   "cell_type": "code",
   "execution_count": 6,
   "metadata": {},
   "outputs": [],
   "source": [
    "import youtube_dl\n",
    "\n",
    "fmdvids_url = \"https://vimeo.com/channels/fmdvids\"\n",
    "fmdvids_ar_url = \"https://vimeo.com/channels/fmdvidsarabic\"\n",
    "\n",
    "\n",
    "\n",
    "def get_vimeo_info(url):\n",
    "    info = None\n",
    "    ydl_options = {\n",
    "        'outtmpl': '%(id)s.%(ext)s',  # use the video id as filename\n",
    "        'writethumbnail': False,\n",
    "        'no_warnings': True,\n",
    "        'continuedl': False,\n",
    "        'restrictfilenames': True,\n",
    "        'quiet': False,\n",
    "        'format': \"bestvideo[height<={maxheight}][ext=mp4]+bestaudio[ext=m4a]/best[height<={maxheight}][ext=mp4]\".format(maxheight='720'),\n",
    "    }\n",
    "\n",
    "\n",
    "    with youtube_dl.YoutubeDL(ydl_options) as ydl:\n",
    "        try:\n",
    "            ydl.add_default_info_extractors()\n",
    "            info = ydl.extract_info(url, download=False)\n",
    "        except (youtube_dl.utils.DownloadError,youtube_dl.utils.ContentTooShortError,youtube_dl.utils.ExtractorError) as e:\n",
    "            print('error_occured')\n",
    "\n",
    "    return info\n",
    "\n"
   ]
  },
  {
   "cell_type": "code",
   "execution_count": 29,
   "metadata": {
    "scrolled": false
   },
   "outputs": [
    {
     "name": "stdout",
     "output_type": "stream",
     "text": [
      "[vimeo:channel] fmdvidsarabic: Downloading page 1\n",
      "[download] Downloading playlist: Families Make the Difference Parenting Skills Videos - Arabic\n",
      "[vimeo:channel] playlist Families Make the Difference Parenting Skills Videos - Arabic: Downloading 11 videos\n",
      "[download] Downloading video 1 of 11\n",
      "[vimeo] 222247861: Downloading webpage\n",
      "[vimeo] 222247861: Extracting information\n",
      "[vimeo] 222247861: Downloading webpage\n",
      "[vimeo] 222247861: Downloading JSON metadata\n",
      "[vimeo] 222247861: Checking Original video URL\n",
      "[vimeo] 222247861: Downloading akfire_interconnect_quic m3u8 information\n",
      "[vimeo] 222247861: Downloading fastly_skyfire m3u8 information\n",
      "[vimeo] 222247861: Downloading akfire_interconnect_quic MPD information\n",
      "[vimeo] 222247861: Downloading akfire_interconnect_quic MPD information\n",
      "[vimeo] 222247861: Downloading fastly_skyfire MPD information\n",
      "[vimeo] 222247861: Downloading fastly_skyfire MPD information\n",
      "[download] Downloading video 2 of 11\n",
      "[vimeo] 222247867: Downloading webpage\n",
      "[vimeo] 222247867: Extracting information\n",
      "[vimeo] 222247867: Downloading webpage\n",
      "[vimeo] 222247867: Downloading JSON metadata\n",
      "[vimeo] 222247867: Checking Original video URL\n",
      "[vimeo] 222247867: Downloading akfire_interconnect_quic m3u8 information\n",
      "[vimeo] 222247867: Downloading fastly_skyfire m3u8 information\n",
      "[vimeo] 222247867: Downloading akfire_interconnect_quic MPD information\n",
      "[vimeo] 222247867: Downloading fastly_skyfire MPD information\n",
      "[download] Downloading video 3 of 11\n",
      "[vimeo] 222247872: Downloading webpage\n",
      "[vimeo] 222247872: Extracting information\n",
      "[vimeo] 222247872: Downloading webpage\n",
      "[vimeo] 222247872: Downloading JSON metadata\n",
      "[vimeo] 222247872: Checking Original video URL\n",
      "[vimeo] 222247872: Downloading akfire_interconnect_quic m3u8 information\n",
      "[vimeo] 222247872: Downloading fastly_skyfire m3u8 information\n",
      "[vimeo] 222247872: Downloading akfire_interconnect_quic MPD information\n",
      "[vimeo] 222247872: Downloading fastly_skyfire MPD information\n",
      "[download] Downloading video 4 of 11\n",
      "[vimeo] 222247878: Downloading webpage\n",
      "[vimeo] 222247878: Extracting information\n",
      "[vimeo] 222247878: Downloading webpage\n",
      "[vimeo] 222247878: Downloading JSON metadata\n",
      "[vimeo] 222247878: Checking Original video URL\n",
      "[vimeo] 222247878: Downloading akfire_interconnect_quic m3u8 information\n",
      "[vimeo] 222247878: Downloading fastly_skyfire m3u8 information\n",
      "[vimeo] 222247878: Downloading akfire_interconnect_quic MPD information\n",
      "[vimeo] 222247878: Downloading fastly_skyfire MPD information\n",
      "[download] Downloading video 5 of 11\n",
      "[vimeo] 222247858: Downloading webpage\n",
      "[vimeo] 222247858: Extracting information\n",
      "[vimeo] 222247858: Downloading webpage\n",
      "[vimeo] 222247858: Downloading JSON metadata\n",
      "[vimeo] 222247858: Checking Original video URL\n",
      "[vimeo] 222247858: Downloading akfire_interconnect_quic m3u8 information\n",
      "[vimeo] 222247858: Downloading fastly_skyfire m3u8 information\n",
      "[vimeo] 222247858: Downloading akfire_interconnect_quic MPD information\n",
      "[vimeo] 222247858: Downloading fastly_skyfire MPD information\n",
      "[download] Downloading video 6 of 11\n",
      "[vimeo] 222247842: Downloading webpage\n",
      "[vimeo] 222247842: Extracting information\n",
      "[vimeo] 222247842: Downloading webpage\n",
      "[vimeo] 222247842: Downloading JSON metadata\n",
      "[vimeo] 222247842: Checking Original video URL\n",
      "[vimeo] 222247842: Downloading akfire_interconnect_quic m3u8 information\n",
      "[vimeo] 222247842: Downloading fastly_skyfire m3u8 information\n",
      "[vimeo] 222247842: Downloading akfire_interconnect_quic MPD information\n",
      "[vimeo] 222247842: Downloading akfire_interconnect_quic MPD information\n",
      "[vimeo] 222247842: Downloading fastly_skyfire MPD information\n",
      "[vimeo] 222247842: Downloading fastly_skyfire MPD information\n",
      "[download] Downloading video 7 of 11\n",
      "[vimeo] 222247838: Downloading webpage\n",
      "[vimeo] 222247838: Extracting information\n",
      "[vimeo] 222247838: Downloading webpage\n",
      "[vimeo] 222247838: Downloading JSON metadata\n",
      "[vimeo] 222247838: Checking Original video URL\n",
      "[vimeo] 222247838: Downloading akfire_interconnect_quic m3u8 information\n",
      "[vimeo] 222247838: Downloading fastly_skyfire m3u8 information\n",
      "[vimeo] 222247838: Downloading akfire_interconnect_quic MPD information\n",
      "[vimeo] 222247838: Downloading fastly_skyfire MPD information\n",
      "[download] Downloading video 8 of 11\n",
      "[vimeo] 222247834: Downloading webpage\n",
      "[vimeo] 222247834: Extracting information\n",
      "[vimeo] 222247834: Downloading webpage\n",
      "[vimeo] 222247834: Downloading JSON metadata\n",
      "[vimeo] 222247834: Checking Original video URL\n",
      "[vimeo] 222247834: Downloading akfire_interconnect_quic m3u8 information\n",
      "[vimeo] 222247834: Downloading fastly_skyfire m3u8 information\n",
      "[vimeo] 222247834: Downloading akfire_interconnect_quic MPD information\n",
      "[vimeo] 222247834: Downloading fastly_skyfire MPD information\n",
      "[download] Downloading video 9 of 11\n",
      "[vimeo] 222247830: Downloading webpage\n",
      "[vimeo] 222247830: Extracting information\n",
      "[vimeo] 222247830: Downloading webpage\n",
      "[vimeo] 222247830: Downloading JSON metadata\n",
      "[vimeo] 222247830: Checking Original video URL\n",
      "[vimeo] 222247830: Downloading akfire_interconnect_quic m3u8 information\n",
      "[vimeo] 222247830: Downloading fastly_skyfire m3u8 information\n",
      "[vimeo] 222247830: Downloading akfire_interconnect_quic MPD information\n",
      "[vimeo] 222247830: Downloading fastly_skyfire MPD information\n",
      "[download] Downloading video 10 of 11\n",
      "[vimeo] 222247824: Downloading webpage\n",
      "[vimeo] 222247824: Extracting information\n",
      "[vimeo] 222247824: Downloading webpage\n",
      "[vimeo] 222247824: Downloading JSON metadata\n",
      "[vimeo] 222247824: Checking Original video URL\n",
      "[vimeo] 222247824: Downloading akfire_interconnect_quic m3u8 information\n",
      "[vimeo] 222247824: Downloading fastly_skyfire m3u8 information\n",
      "[vimeo] 222247824: Downloading akfire_interconnect_quic MPD information\n",
      "[vimeo] 222247824: Downloading fastly_skyfire MPD information\n",
      "[download] Downloading video 11 of 11\n",
      "[vimeo] 222247820: Downloading webpage\n",
      "[vimeo] 222247820: Extracting information\n",
      "[vimeo] 222247820: Downloading webpage\n",
      "[vimeo] 222247820: Downloading JSON metadata\n",
      "[vimeo] 222247820: Checking Original video URL\n",
      "[vimeo] 222247820: Downloading akfire_interconnect_quic m3u8 information\n",
      "[vimeo] 222247820: Downloading fastly_skyfire m3u8 information\n",
      "[vimeo] 222247820: Downloading akfire_interconnect_quic MPD information\n",
      "[vimeo] 222247820: Downloading akfire_interconnect_quic MPD information\n",
      "[vimeo] 222247820: Downloading fastly_skyfire MPD information\n",
      "[vimeo] 222247820: Downloading fastly_skyfire MPD information\n",
      "[download] Finished downloading playlist: Families Make the Difference Parenting Skills Videos - Arabic\n"
     ]
    }
   ],
   "source": [
    "info = get_vimeo_info(fmdvids_ar_url)"
   ]
  },
  {
   "cell_type": "code",
   "execution_count": 8,
   "metadata": {},
   "outputs": [
    {
     "data": {
      "text/plain": [
       "dict_keys(['_type', 'entries', 'id', 'title', 'extractor', 'webpage_url', 'webpage_url_basename', 'extractor_key'])"
      ]
     },
     "execution_count": 8,
     "metadata": {},
     "output_type": "execute_result"
    }
   ],
   "source": [
    "info.keys()"
   ]
  },
  {
   "cell_type": "code",
   "execution_count": 30,
   "metadata": {},
   "outputs": [
    {
     "data": {
      "text/plain": [
       "'Families Make the Difference Parenting Skills Videos - Arabic'"
      ]
     },
     "execution_count": 30,
     "metadata": {},
     "output_type": "execute_result"
    }
   ],
   "source": [
    "info['title']"
   ]
  },
  {
   "cell_type": "code",
   "execution_count": null,
   "metadata": {},
   "outputs": [],
   "source": [
    "# entry['subtitles']"
   ]
  },
  {
   "cell_type": "code",
   "execution_count": 31,
   "metadata": {},
   "outputs": [
    {
     "name": "stdout",
     "output_type": "stream",
     "text": [
      "\n",
      "https://vimeo.com/channels/fmdvidsarabic/222247861\n",
      "   web_url = https://vimeo.com/222247861\n",
      "   title = Time out\n",
      "   playlist_title = Families Make the Difference Parenting Skills Videos - Arabic\n",
      "   description = This is \"Time out\" by IRC Child Protection & Education on Vimeo, the home for high quality videos and the people who love them.\n",
      "   subtitles = {}\n",
      "   thumbnails = [{'url': 'https://i.vimeocdn.com/video/640726474_1280.jpg', 'id': '0'}]\n",
      "\n",
      "https://vimeo.com/channels/fmdvidsarabic/222247867\n",
      "   web_url = https://vimeo.com/222247867\n",
      "   title = Praise & Ignore\n",
      "   playlist_title = Families Make the Difference Parenting Skills Videos - Arabic\n",
      "   description = This is \"Praise & Ignore\" by IRC Child Protection & Education on Vimeo, the home for high quality videos and the people who love them.\n",
      "   subtitles = {}\n",
      "   thumbnails = [{'url': 'https://i.vimeocdn.com/video/640726474_1280.jpg', 'id': '0'}]\n",
      "\n",
      "https://vimeo.com/channels/fmdvidsarabic/222247872\n",
      "   web_url = https://vimeo.com/222247872\n",
      "   title = Earning Privileges & Redirection\n",
      "   playlist_title = Families Make the Difference Parenting Skills Videos - Arabic\n",
      "   description = This is \"Earning Privileges & Redirection\" by IRC Child Protection & Education on Vimeo, the home for high quality videos and the people who love…\n",
      "   subtitles = {}\n",
      "   thumbnails = [{'url': 'https://i.vimeocdn.com/video/640726474_1280.jpg', 'id': '0'}]\n",
      "\n",
      "https://vimeo.com/channels/fmdvidsarabic/222247878\n",
      "   web_url = https://vimeo.com/222247878\n",
      "   title = Equality\n",
      "   playlist_title = Families Make the Difference Parenting Skills Videos - Arabic\n",
      "   description = This is \"Equality\" by IRC Child Protection & Education on Vimeo, the home for high quality videos and the people who love them.\n",
      "   subtitles = {}\n",
      "   thumbnails = [{'url': 'https://i.vimeocdn.com/video/640726474_1280.jpg', 'id': '0'}]\n",
      "\n",
      "https://vimeo.com/channels/fmdvidsarabic/222247858\n",
      "   web_url = https://vimeo.com/222247858\n",
      "   title = Household Rules\n",
      "   playlist_title = Families Make the Difference Parenting Skills Videos - Arabic\n",
      "   description = This is \"Household Rules\" by IRC Child Protection & Education on Vimeo, the home for high quality videos and the people who love them.\n",
      "   subtitles = {}\n",
      "   thumbnails = [{'url': 'https://i.vimeocdn.com/video/640726474_1280.jpg', 'id': '0'}]\n",
      "\n",
      "https://vimeo.com/channels/fmdvidsarabic/222247842\n",
      "   web_url = https://vimeo.com/222247842\n",
      "   title = Communication and empathy\n",
      "   playlist_title = Families Make the Difference Parenting Skills Videos - Arabic\n",
      "   description = This is \"Communication and empathy\" by IRC Child Protection & Education on Vimeo, the home for high quality videos and the people who love them.\n",
      "   subtitles = {}\n",
      "   thumbnails = [{'url': 'https://i.vimeocdn.com/video/640726434_1280.jpg', 'id': '0'}]\n",
      "\n",
      "https://vimeo.com/channels/fmdvidsarabic/222247838\n",
      "   web_url = https://vimeo.com/222247838\n",
      "   title = Quality Time\n",
      "   playlist_title = Families Make the Difference Parenting Skills Videos - Arabic\n",
      "   description = This is \"Quality Time\" by IRC Child Protection & Education on Vimeo, the home for high quality videos and the people who love them.\n",
      "   subtitles = {}\n",
      "   thumbnails = [{'url': 'https://i.vimeocdn.com/video/640726434_1280.jpg', 'id': '0'}]\n",
      "\n",
      "https://vimeo.com/channels/fmdvidsarabic/222247834\n",
      "   web_url = https://vimeo.com/222247834\n",
      "   title = Parent Self-Care\n",
      "   playlist_title = Families Make the Difference Parenting Skills Videos - Arabic\n",
      "   description = This is \"Parent Self-Care\" by IRC Child Protection & Education on Vimeo, the home for high quality videos and the people who love them.\n",
      "   subtitles = {}\n",
      "   thumbnails = [{'url': 'https://i.vimeocdn.com/video/640726434_1280.jpg', 'id': '0'}]\n",
      "\n",
      "https://vimeo.com/channels/fmdvidsarabic/222247830\n",
      "   web_url = https://vimeo.com/222247830\n",
      "   title = Facilitation Pt 2\n",
      "   playlist_title = Families Make the Difference Parenting Skills Videos - Arabic\n",
      "   description = This is \"Facilitation Pt 2\" by IRC Child Protection & Education on Vimeo, the home for high quality videos and the people who love them.\n",
      "   subtitles = {}\n",
      "   thumbnails = [{'url': 'https://i.vimeocdn.com/video/640726434_1280.jpg', 'id': '0'}]\n",
      "\n",
      "https://vimeo.com/channels/fmdvidsarabic/222247824\n",
      "   web_url = https://vimeo.com/222247824\n",
      "   title = Facilitation Pt 1\n",
      "   playlist_title = Families Make the Difference Parenting Skills Videos - Arabic\n",
      "   description = This is \"Facilitation Pt 1\" by IRC Child Protection & Education on Vimeo, the home for high quality videos and the people who love them.\n",
      "   subtitles = {}\n",
      "   thumbnails = [{'url': 'https://i.vimeocdn.com/video/640726434_1280.jpg', 'id': '0'}]\n",
      "\n",
      "https://vimeo.com/channels/fmdvidsarabic/222247820\n",
      "   web_url = https://vimeo.com/222247820\n",
      "   title = Nurturing and Interactions\n",
      "   playlist_title = Families Make the Difference Parenting Skills Videos - Arabic\n",
      "   description = This is \"Nurturing and Interactions\" by IRC Child Protection & Education on Vimeo, the home for high quality videos and the people who love them.\n",
      "   subtitles = {}\n",
      "   thumbnails = [{'url': 'https://i.vimeocdn.com/video/640726483_1280.jpg', 'id': '0'}]\n"
     ]
    }
   ],
   "source": [
    "\n",
    "real_title_pat = re.compile(r'This is \\\"(?P<title>.*)\\\" by .*')\n",
    "for vid in info['entries']:\n",
    "    print()\n",
    "    vid['webpage_url']\n",
    "    print(vid['webpage_url'])\n",
    "    description = vid['description']\n",
    "    m = real_title_pat.search(description)\n",
    "    if m:\n",
    "        vid['title'] = m.groupdict()['title']\n",
    "    vid['web_url'] = 'https://vimeo.com/' + vid['id']\n",
    "    for pkey in ['web_url', 'title', 'playlist_title', 'description','subtitles', 'thumbnails']:\n",
    "        print('  ', pkey, '=', vid[pkey])\n"
   ]
  },
  {
   "cell_type": "code",
   "execution_count": 25,
   "metadata": {},
   "outputs": [
    {
     "data": {
      "text/plain": [
       "'Time-out'"
      ]
     },
     "execution_count": 25,
     "metadata": {},
     "output_type": "execute_result"
    }
   ],
   "source": [
    "import re\n",
    "s = 'This is \"Time-out\" by IRC Child P'\n",
    "\n",
    "real_title_pat = re.compile(r'This is \\\"(?P<title>.*)\\\" by .*')\n",
    "m = real_title_pat.search(s)\n",
    "\n",
    "# for key in entry.keys():\n",
    "#     print(key)\n"
   ]
  },
  {
   "cell_type": "code",
   "execution_count": null,
   "metadata": {},
   "outputs": [],
   "source": []
  },
  {
   "cell_type": "code",
   "execution_count": null,
   "metadata": {},
   "outputs": [],
   "source": []
  }
 ],
 "metadata": {
  "kernelspec": {
   "display_name": "Python 3",
   "language": "python",
   "name": "python3"
  },
  "language_info": {
   "codemirror_mode": {
    "name": "ipython",
    "version": 3
   },
   "file_extension": ".py",
   "mimetype": "text/x-python",
   "name": "python",
   "nbconvert_exporter": "python",
   "pygments_lexer": "ipython3",
   "version": "3.6.9"
  }
 },
 "nbformat": 4,
 "nbformat_minor": 2
}

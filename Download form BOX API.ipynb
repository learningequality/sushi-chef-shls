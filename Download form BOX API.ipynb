{
 "cells": [
  {
   "cell_type": "code",
   "execution_count": 3,
   "metadata": {},
   "outputs": [],
   "source": [
    "import cgi\n",
    "import os\n",
    "import requests\n",
    "\n",
    "\n",
    "\n",
    "CHEFDATA_DIR = 'chefdata'\n",
    "\n"
   ]
  },
  {
   "cell_type": "code",
   "execution_count": 4,
   "metadata": {},
   "outputs": [],
   "source": [
    "\n",
    "from sushichef import get_shared_item\n",
    "\n"
   ]
  },
  {
   "cell_type": "code",
   "execution_count": null,
   "metadata": {},
   "outputs": [],
   "source": []
  },
  {
   "cell_type": "code",
   "execution_count": 5,
   "metadata": {},
   "outputs": [
    {
     "data": {
      "text/plain": [
       "('file', None, '92007689777')"
      ]
     },
     "execution_count": 5,
     "metadata": {},
     "output_type": "execute_result"
    }
   ],
   "source": [
    "# file shared link\n",
    "SHARE_LINK_URL = 'https://rescue.box.com/s/n3y9ofkeslvjhw3h5s8hwmb49bttnpss'\n",
    "get_shared_item(SHARE_LINK_URL)"
   ]
  },
  {
   "cell_type": "code",
   "execution_count": 6,
   "metadata": {},
   "outputs": [
    {
     "data": {
      "text/plain": [
       "('folder', '47664910783', None)"
      ]
     },
     "execution_count": 6,
     "metadata": {},
     "output_type": "execute_result"
    }
   ],
   "source": [
    "FOLDER_SHARE_URL = 'https://rescue.app.box.com/s/j1cua6q1d6b0ibppirh6qrkx1c4jdlmu'\n",
    "get_shared_item(FOLDER_SHARE_URL)"
   ]
  },
  {
   "cell_type": "code",
   "execution_count": null,
   "metadata": {},
   "outputs": [],
   "source": []
  },
  {
   "cell_type": "code",
   "execution_count": null,
   "metadata": {},
   "outputs": [],
   "source": [
    "\n",
    "\n"
   ]
  },
  {
   "cell_type": "code",
   "execution_count": null,
   "metadata": {},
   "outputs": [],
   "source": []
  },
  {
   "cell_type": "code",
   "execution_count": null,
   "metadata": {},
   "outputs": [],
   "source": []
  },
  {
   "cell_type": "code",
   "execution_count": null,
   "metadata": {},
   "outputs": [],
   "source": []
  },
  {
   "cell_type": "code",
   "execution_count": null,
   "metadata": {},
   "outputs": [],
   "source": []
  },
  {
   "cell_type": "code",
   "execution_count": null,
   "metadata": {},
   "outputs": [],
   "source": []
  },
  {
   "cell_type": "code",
   "execution_count": 7,
   "metadata": {},
   "outputs": [],
   "source": [
    "from sushichef import box_download_file"
   ]
  },
  {
   "cell_type": "code",
   "execution_count": 8,
   "metadata": {},
   "outputs": [
    {
     "name": "stdout",
     "output_type": "stream",
     "text": [
      "Saved file chefdata/Resources & Handouts for Parenting Curriculum Children 6-11 IRC Greece.pdf of size 1.6020088195800781 MB\n"
     ]
    },
    {
     "data": {
      "text/plain": [
       "'chefdata/Resources & Handouts for Parenting Curriculum Children 6-11 IRC Greece.pdf'"
      ]
     },
     "execution_count": 8,
     "metadata": {},
     "output_type": "execute_result"
    }
   ],
   "source": [
    "FOLDER_SHARE_URL = 'https://rescue.app.box.com/s/j1cua6q1d6b0ibppirh6qrkx1c4jdlmu'\n",
    "box_download_file('282067463136', FOLDER_SHARE_URL, destdir=CHEFDATA_DIR)"
   ]
  },
  {
   "cell_type": "code",
   "execution_count": 9,
   "metadata": {},
   "outputs": [],
   "source": [
    "from sushichef import BOXAPI_DEVELOPER_TOKEN, BOXAPI_SHARED_ITEMS"
   ]
  },
  {
   "cell_type": "code",
   "execution_count": 10,
   "metadata": {},
   "outputs": [
    {
     "name": "stdout",
     "output_type": "stream",
     "text": [
      "folder 47664910783\n"
     ]
    }
   ],
   "source": [
    "FOLDER_SHARE_URL = 'https://rescue.app.box.com/s/j1cua6q1d6b0ibppirh6qrkx1c4jdlmu'\n",
    "headers = {\n",
    "    \"Authorization\": \"Bearer \" + BOXAPI_DEVELOPER_TOKEN,\n",
    "    \"BoxApi\": \"shared_link=\" + FOLDER_SHARE_URL,\n",
    "}\n",
    "\n",
    "# GET1: get file id for this shared link\n",
    "response1 = requests.get(BOXAPI_SHARED_ITEMS, headers=headers)\n",
    "data1 = response1.json()\n",
    "shared_type, shared_id = data1['type'], data1['id']\n",
    "print(shared_type, shared_id)\n",
    "\n"
   ]
  },
  {
   "cell_type": "code",
   "execution_count": 11,
   "metadata": {},
   "outputs": [],
   "source": [
    "from sushichef import box_download_folder"
   ]
  },
  {
   "cell_type": "code",
   "execution_count": 12,
   "metadata": {},
   "outputs": [
    {
     "name": "stdout",
     "output_type": "stream",
     "text": [
      "Saved file chefdata/downloaded/Condensed Version_Children/Customized Parenting Skills Curriculum 6-11 IRC Greece IRC - FINAL VERSION.pdf of size 1.1756696701049805 MB\n",
      "Saved file chefdata/downloaded/Condensed Version_Children/Resources & Handouts for Parenting Curriculum Children 6-11 IRC Greece.pdf of size 1.6020088195800781 MB\n"
     ]
    },
    {
     "data": {
      "text/plain": [
       "{'title': 'Condensed Version_Children',\n",
       " 'source_id': 'box_folder:47664910783',\n",
       " 'children': [{'title': 'Customized Parenting Skills Curriculum 6-11 IRC Greece IRC - FINAL VERSION.pdf',\n",
       "   'kind': 'shls_link',\n",
       "   'path': 'chefdata/downloaded/Condensed Version_Children/Customized Parenting Skills Curriculum 6-11 IRC Greece IRC - FINAL VERSION.pdf',\n",
       "   'source_id': 'box_file:282067630180'},\n",
       "  {'title': 'Resources & Handouts for Parenting Curriculum Children 6-11 IRC Greece.pdf',\n",
       "   'kind': 'shls_link',\n",
       "   'path': 'chefdata/downloaded/Condensed Version_Children/Resources & Handouts for Parenting Curriculum Children 6-11 IRC Greece.pdf',\n",
       "   'source_id': 'box_file:282067463136'}]}"
      ]
     },
     "execution_count": 12,
     "metadata": {},
     "output_type": "execute_result"
    }
   ],
   "source": [
    "box_download_folder('47664910783', FOLDER_SHARE_URL)"
   ]
  },
  {
   "cell_type": "code",
   "execution_count": null,
   "metadata": {},
   "outputs": [],
   "source": []
  },
  {
   "cell_type": "code",
   "execution_count": null,
   "metadata": {},
   "outputs": [],
   "source": []
  },
  {
   "cell_type": "code",
   "execution_count": null,
   "metadata": {},
   "outputs": [],
   "source": []
  },
  {
   "cell_type": "code",
   "execution_count": null,
   "metadata": {},
   "outputs": [],
   "source": []
  },
  {
   "cell_type": "code",
   "execution_count": null,
   "metadata": {},
   "outputs": [],
   "source": []
  },
  {
   "cell_type": "code",
   "execution_count": null,
   "metadata": {},
   "outputs": [],
   "source": []
  }
 ],
 "metadata": {
  "kernelspec": {
   "display_name": "Python 3",
   "language": "python",
   "name": "python3"
  },
  "language_info": {
   "codemirror_mode": {
    "name": "ipython",
    "version": 3
   },
   "file_extension": ".py",
   "mimetype": "text/x-python",
   "name": "python",
   "nbconvert_exporter": "python",
   "pygments_lexer": "ipython3",
   "version": "3.6.9"
  }
 },
 "nbformat": 4,
 "nbformat_minor": 2
}

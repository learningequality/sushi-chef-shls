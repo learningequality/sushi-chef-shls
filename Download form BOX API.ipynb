{
 "cells": [
  {
   "cell_type": "code",
   "execution_count": 1,
   "metadata": {},
   "outputs": [],
   "source": [
    "import cgi\n",
    "import os\n",
    "import requests\n",
    "\n",
    "\n",
    "# Need to get a new Developer Token  before running chef because expires after one hour\n",
    "BOXAPI_DEVELOPER_TOKEN = 'bHuTyXztm3nETINEM3CbhssV80HsJO3C'\n",
    "\n",
    "\n",
    "BOXAPI_SHARED_ITEMS = \"https://api.box.com/2.0/shared_items?fields=type,id\"\n",
    "BOXAPI_FILES_CONTENT = \"https://api.box.com/2.0/files/{file_id}/content\"\n",
    "BOXAPI_FOLDER_DETAILS = 'https://api.box.com/2.0/folders/{folder_id}'\n",
    "BOXAPI_FOLDER_ITEMS = 'https://api.box.com/2.0/folders/{folder_id}/items'\n",
    "\n",
    "\n",
    "\n",
    "CHEFDATA_DIR = 'chefdata'\n",
    "\n"
   ]
  },
  {
   "cell_type": "code",
   "execution_count": null,
   "metadata": {},
   "outputs": [],
   "source": [
    "\n",
    "\n",
    "\n"
   ]
  },
  {
   "cell_type": "code",
   "execution_count": 2,
   "metadata": {},
   "outputs": [],
   "source": [
    "def get_shared_item(shared_link):\n",
    "    headers = {\n",
    "        \"Authorization\": \"Bearer \" + BOXAPI_DEVELOPER_TOKEN,\n",
    "        \"BoxApi\": \"shared_link=\" + shared_link,\n",
    "    }\n",
    "    # GET1: get file id for this shared link\n",
    "    response1 = requests.get(BOXAPI_SHARED_ITEMS, headers=headers)\n",
    "    json_data = response1.json()\n",
    "    shared_type, shared_id = json_data['type'], json_data['id']\n",
    "    if shared_type == 'file':\n",
    "        folder_id = None\n",
    "        file_id = shared_id\n",
    "    elif shared_type == 'folder':\n",
    "        folder_id = shared_id\n",
    "        file_id = None\n",
    "    # print(shared_type, folder_id, file_id)\n",
    "    return shared_type, folder_id, file_id\n",
    "\n"
   ]
  },
  {
   "cell_type": "code",
   "execution_count": 3,
   "metadata": {},
   "outputs": [
    {
     "data": {
      "text/plain": [
       "('file', None, '92007689777')"
      ]
     },
     "execution_count": 3,
     "metadata": {},
     "output_type": "execute_result"
    }
   ],
   "source": [
    "# file shared link\n",
    "SHARE_LINK_URL = 'https://rescue.box.com/s/n3y9ofkeslvjhw3h5s8hwmb49bttnpss'\n",
    "get_shared_item(SHARE_LINK_URL)"
   ]
  },
  {
   "cell_type": "code",
   "execution_count": 4,
   "metadata": {},
   "outputs": [
    {
     "data": {
      "text/plain": [
       "('folder', '47664910783', None)"
      ]
     },
     "execution_count": 4,
     "metadata": {},
     "output_type": "execute_result"
    }
   ],
   "source": [
    "FOLDER_SHARE_URL = 'https://rescue.app.box.com/s/j1cua6q1d6b0ibppirh6qrkx1c4jdlmu'\n",
    "get_shared_item(FOLDER_SHARE_URL)"
   ]
  },
  {
   "cell_type": "code",
   "execution_count": null,
   "metadata": {},
   "outputs": [],
   "source": []
  },
  {
   "cell_type": "code",
   "execution_count": null,
   "metadata": {},
   "outputs": [],
   "source": [
    "\n",
    "\n"
   ]
  },
  {
   "cell_type": "code",
   "execution_count": null,
   "metadata": {},
   "outputs": [],
   "source": []
  },
  {
   "cell_type": "code",
   "execution_count": null,
   "metadata": {},
   "outputs": [],
   "source": []
  },
  {
   "cell_type": "code",
   "execution_count": null,
   "metadata": {},
   "outputs": [],
   "source": []
  },
  {
   "cell_type": "code",
   "execution_count": null,
   "metadata": {},
   "outputs": [],
   "source": []
  },
  {
   "cell_type": "code",
   "execution_count": null,
   "metadata": {},
   "outputs": [],
   "source": []
  },
  {
   "cell_type": "code",
   "execution_count": 5,
   "metadata": {},
   "outputs": [],
   "source": [
    "def box_download_file(file_id, shared_link, destdir=CHEFDATA_DIR):\n",
    "    headers = {\n",
    "        \"Authorization\": \"Bearer \" + BOXAPI_DEVELOPER_TOKEN,\n",
    "        \"BoxApi\": \"shared_link=\" + shared_link,\n",
    "    }\n",
    "    # GET2: get actual file data\n",
    "    response = requests.get(BOXAPI_FILES_CONTENT.format(file_id=file_id), headers=headers)\n",
    "    content_disposition = response.headers['Content-Disposition']\n",
    "    _, params = cgi.parse_header(response.headers['Content-Disposition'])\n",
    "    filename = params['filename']\n",
    "    out_path = os.path.join(destdir, filename)\n",
    "    with open(out_path, 'wb') as outf:\n",
    "        outf.write(response.content)\n",
    "        print('Saved file', out_path, 'of size', len(response.content)/1024/1024, 'MB')\n",
    "    return out_path\n"
   ]
  },
  {
   "cell_type": "code",
   "execution_count": 6,
   "metadata": {},
   "outputs": [
    {
     "name": "stdout",
     "output_type": "stream",
     "text": [
      "Saved file chefdata/Resources & Handouts for Parenting Curriculum Children 6-11 IRC Greece.pdf of size 1.6020088195800781 MB\n"
     ]
    },
    {
     "data": {
      "text/plain": [
       "'chefdata/Resources & Handouts for Parenting Curriculum Children 6-11 IRC Greece.pdf'"
      ]
     },
     "execution_count": 6,
     "metadata": {},
     "output_type": "execute_result"
    }
   ],
   "source": [
    "FOLDER_SHARE_URL = 'https://rescue.app.box.com/s/j1cua6q1d6b0ibppirh6qrkx1c4jdlmu'\n",
    "box_download_file('282067463136', FOLDER_SHARE_URL, destdir=CHEFDATA_DIR)"
   ]
  },
  {
   "cell_type": "code",
   "execution_count": null,
   "metadata": {},
   "outputs": [],
   "source": []
  },
  {
   "cell_type": "code",
   "execution_count": 7,
   "metadata": {},
   "outputs": [
    {
     "name": "stdout",
     "output_type": "stream",
     "text": [
      "folder 47664910783\n"
     ]
    }
   ],
   "source": [
    "FOLDER_SHARE_URL = 'https://rescue.app.box.com/s/j1cua6q1d6b0ibppirh6qrkx1c4jdlmu'\n",
    "headers = {\n",
    "    \"Authorization\": \"Bearer \" + BOXAPI_DEVELOPER_TOKEN,\n",
    "    \"BoxApi\": \"shared_link=\" + FOLDER_SHARE_URL,\n",
    "}\n",
    "\n",
    "# GET1: get file id for this shared link\n",
    "response1 = requests.get(BOXAPI_SHARED_ITEMS, headers=headers)\n",
    "data1 = response1.json()\n",
    "shared_type, shared_id = data1['type'], data1['id']\n",
    "print(shared_type, shared_id)\n",
    "\n"
   ]
  },
  {
   "cell_type": "code",
   "execution_count": 8,
   "metadata": {},
   "outputs": [],
   "source": [
    "def box_download_folder(folder_id, shared_link, destdir=CHEFDATA_DIR):\n",
    "    \"\"\"\n",
    "    Return a dict {'title': '',  'children': [ {'path':'local/path/to/file.pdf'}]  }\n",
    "    \"\"\"\n",
    "    headers = {\n",
    "        \"Authorization\": \"Bearer \" + BOXAPI_DEVELOPER_TOKEN,\n",
    "        \"BoxApi\": \"shared_link=\" + shared_link,\n",
    "    }\n",
    "    \n",
    "    # Get deets\n",
    "    response1 = requests.get(BOXAPI_FOLDER_DETAILS.format(folder_id=folder_id), headers=headers)\n",
    "    folder_data = response1.json()\n",
    "    folder_name = folder_data['name']\n",
    "    folder_dict = dict(\n",
    "        title=folder_name,\n",
    "        children=[]\n",
    "    )\n",
    "    folder_path = os.path.join(CHEFDATA_DIR, folder_name)\n",
    "    if not os.path.exists(folder_path):\n",
    "        os.mkdir(folder_path)\n",
    "\n",
    "    # Get contents\n",
    "    response2 = requests.get(BOXAPI_FOLDER_ITEMS.format(folder_id=folder_id), headers=headers)\n",
    "    json_data = response2.json()\n",
    "    for entry in json_data['entries']:\n",
    "        if entry['type'] == 'file':\n",
    "            filename = entry['name']\n",
    "            file_id = entry['id']\n",
    "            file_path = box_download_file(file_id, shared_link, destdir=folder_path)\n",
    "            filename = os.path.basename(file_path)\n",
    "            file_dict = dict(\n",
    "                title=filename,\n",
    "                path=file_path\n",
    "            )\n",
    "            folder_dict['children'].append(file_dict)\n",
    "        else:\n",
    "            print('Skipping entry', entry)\n",
    "    \n",
    "    return folder_dict\n",
    "\n",
    "\n"
   ]
  },
  {
   "cell_type": "code",
   "execution_count": 9,
   "metadata": {},
   "outputs": [
    {
     "name": "stdout",
     "output_type": "stream",
     "text": [
      "Saved file chefdata/Condensed Version_Children/Customized Parenting Skills Curriculum 6-11 IRC Greece IRC - FINAL VERSION.pdf of size 1.1756696701049805 MB\n",
      "Saved file chefdata/Condensed Version_Children/Resources & Handouts for Parenting Curriculum Children 6-11 IRC Greece.pdf of size 1.6020088195800781 MB\n"
     ]
    },
    {
     "data": {
      "text/plain": [
       "{'title': 'Condensed Version_Children',\n",
       " 'children': [{'title': 'Customized Parenting Skills Curriculum 6-11 IRC Greece IRC - FINAL VERSION.pdf',\n",
       "   'path': 'chefdata/Condensed Version_Children/Customized Parenting Skills Curriculum 6-11 IRC Greece IRC - FINAL VERSION.pdf'},\n",
       "  {'title': 'Resources & Handouts for Parenting Curriculum Children 6-11 IRC Greece.pdf',\n",
       "   'path': 'chefdata/Condensed Version_Children/Resources & Handouts for Parenting Curriculum Children 6-11 IRC Greece.pdf'}]}"
      ]
     },
     "execution_count": 9,
     "metadata": {},
     "output_type": "execute_result"
    }
   ],
   "source": [
    "box_download_folder('47664910783', FOLDER_SHARE_URL)"
   ]
  },
  {
   "cell_type": "code",
   "execution_count": null,
   "metadata": {},
   "outputs": [],
   "source": []
  },
  {
   "cell_type": "code",
   "execution_count": null,
   "metadata": {},
   "outputs": [],
   "source": []
  },
  {
   "cell_type": "code",
   "execution_count": null,
   "metadata": {},
   "outputs": [],
   "source": []
  },
  {
   "cell_type": "code",
   "execution_count": null,
   "metadata": {},
   "outputs": [],
   "source": []
  },
  {
   "cell_type": "code",
   "execution_count": null,
   "metadata": {},
   "outputs": [],
   "source": []
  },
  {
   "cell_type": "code",
   "execution_count": null,
   "metadata": {},
   "outputs": [],
   "source": []
  }
 ],
 "metadata": {
  "kernelspec": {
   "display_name": "Python 3",
   "language": "python",
   "name": "python3"
  },
  "language_info": {
   "codemirror_mode": {
    "name": "ipython",
    "version": 3
   },
   "file_extension": ".py",
   "mimetype": "text/x-python",
   "name": "python",
   "nbconvert_exporter": "python",
   "pygments_lexer": "ipython3",
   "version": "3.6.5"
  }
 },
 "nbformat": 4,
 "nbformat_minor": 2
}
